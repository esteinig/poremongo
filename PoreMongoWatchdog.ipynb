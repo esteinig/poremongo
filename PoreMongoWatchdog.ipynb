{
 "cells": [
  {
   "cell_type": "code",
   "execution_count": null,
   "metadata": {
    "collapsed": false
   },
   "outputs": [],
   "source": [
    "import os\n",
    "import time\n",
    "\n",
    "from poremongo import PoreMongo\n",
    "\n",
    "# Do not need: pongo.connect()\n",
    "pongo = PoreMongo()\n",
    "\n",
    "def callback(fpath):\n",
    "    \n",
    "    print(f\"{time.time()} file={os.path.basename(fpath)}\")\n",
    "\n",
    "watcher = pongo.watch(path=\"run_sim_1\", callback=callback, index=False)"
   ]
  },
  {
   "cell_type": "code",
   "execution_count": null,
   "metadata": {
    "collapsed": false
   },
   "outputs": [],
   "source": [
    "watcher.stop()"
   ]
  }
 ],
 "metadata": {
  "anaconda-cloud": {},
  "kernelspec": {
   "display_name": "Python [conda env:poremongo]",
   "language": "python",
   "name": "conda-env-poremongo-py"
  },
  "language_info": {
   "codemirror_mode": {
    "name": "ipython",
    "version": 3
   },
   "file_extension": ".py",
   "mimetype": "text/x-python",
   "name": "python",
   "nbconvert_exporter": "python",
   "pygments_lexer": "ipython3",
   "version": "3.6.6"
  }
 },
 "nbformat": 4,
 "nbformat_minor": 1
}
